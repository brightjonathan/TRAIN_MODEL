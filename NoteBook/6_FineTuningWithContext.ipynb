{
  "nbformat": 4,
  "nbformat_minor": 0,
  "metadata": {
    "colab": {
      "provenance": [],
      "gpuType": "T4"
    },
    "kernelspec": {
      "name": "python3",
      "display_name": "Python 3"
    },
    "language_info": {
      "name": "python"
    },
    "accelerator": "GPU"
  },
  "cells": [
    {
      "cell_type": "markdown",
      "source": [
        "# Prepare the data\n",
        "\n",
        "1. Load the fine-tuning data"
      ],
      "metadata": {
        "id": "P9ZOidZoctT1"
      }
    },
    {
      "cell_type": "code",
      "source": [
        "import json\n",
        "\n",
        "file_path = \"/content/TRAIN_MODEL/data/fine_tuning.json\"\n",
        "with open(file_path, \"r\") as file:\n",
        "    data = json.load(file)"
      ],
      "metadata": {
        "id": "4r9GsOd_c--I"
      },
      "execution_count": 9,
      "outputs": []
    },
    {
      "cell_type": "markdown",
      "source": [
        "2. Load the tokenizer"
      ],
      "metadata": {
        "id": "ALrDdGPkdOl0"
      }
    },
    {
      "cell_type": "code",
      "source": [
        "import sys\n",
        "sys.path.append('..')"
      ],
      "metadata": {
        "id": "YAMlLOEqdLVw"
      },
      "execution_count": 10,
      "outputs": []
    },
    {
      "cell_type": "code",
      "source": [
        "from minbpe.regex import RegexTokenizer\n",
        "\n",
        "tokenizer = RegexTokenizer()\n",
        "tokenizer.load(model_file=\"/content/TRAIN_MODEL/tokenizer/my_tokenizer.model\")\n",
        "\n",
        "\n",
        "def get_vocab_size(tokenizer: RegexTokenizer) -> int:\n",
        "    vocab = tokenizer.vocab\n",
        "    special_tokens = tokenizer.special_tokens\n",
        "\n",
        "    return len(vocab) + len(special_tokens)"
      ],
      "metadata": {
        "id": "fwypNUT0dSNx"
      },
      "execution_count": 11,
      "outputs": []
    },
    {
      "cell_type": "markdown",
      "source": [
        "3. Tokenize the sequences"
      ],
      "metadata": {
        "id": "2ch-5Gc7d0iK"
      }
    },
    {
      "cell_type": "code",
      "source": [
        "tokenized_data = []\n",
        "for item in data:\n",
        "    tokenized_item = tokenizer.encode(item, allowed_special=\"all\")\n",
        "    tokenized_data.append(tokenized_item)\n",
        "\n",
        "len(tokenized_data[0])"
      ],
      "metadata": {
        "colab": {
          "base_uri": "https://localhost:8080/"
        },
        "id": "_kQQ4kbSdxno",
        "outputId": "42f305dc-ed29-42cb-be1c-d41321d7806b"
      },
      "execution_count": 12,
      "outputs": [
        {
          "output_type": "execute_result",
          "data": {
            "text/plain": [
              "131"
            ]
          },
          "metadata": {},
          "execution_count": 12
        }
      ]
    },
    {
      "cell_type": "markdown",
      "source": [
        "4. Split the data\n",
        "\n",
        "We need to be careful when splitting the data. We want to keep the multi-turn conversations complete in each part. So, the training and validation sets should start with a You message and end with an Assistant message."
      ],
      "metadata": {
        "id": "dusrHlKTeCn0"
      }
    },
    {
      "cell_type": "code",
      "source": [
        "initial_split_index = int(0.95 * len(data))\n",
        "\n",
        "# Adjusting the index to ensure that the training set ends with \"Assistant\" message\n",
        "# and that the validation set starts with \"You\" message\n",
        "\n",
        "# Scanning backward to find an Assistant message\n",
        "split_index = initial_split_index\n",
        "while split_index > 0 and not data[split_index-1].startswith('<|startoftext|>Assistant'):\n",
        "    split_index -= 1\n",
        "\n",
        "# Ensure split_index is not 0 to avoid empty train_data\n",
        "if split_index == 0:\n",
        "  # Find the first instance of an Assistant message to split\n",
        "  for i in range(initial_split_index, len(data)):\n",
        "    if data[i].startswith('<|startoftext|>Assistant'):\n",
        "      split_index = i + 1\n",
        "      break\n",
        "  # If no Assistant message is found after initial_split_index, split at initial_split_index\n",
        "  if split_index == 0:\n",
        "      split_index = initial_split_index\n",
        "\n",
        "\n",
        "train_data = data[:split_index]\n",
        "val_data = data[split_index:]\n",
        "\n",
        "print(\"Training set: \")\n",
        "print(f\"Start message: {train_data[0].split('<|separator|>')[0]}\")\n",
        "print(f\"End message: {train_data[-1].split('<|separator|>')[0]}\")\n",
        "\n",
        "print(\"\\nValidation set: \")\n",
        "print(f\"Start message: {val_data[0].split('<|separator|>')[0]}\")\n",
        "print(f\"End message: {val_data[-1].split('<|separator|>')[0]}\")"
      ],
      "metadata": {
        "colab": {
          "base_uri": "https://localhost:8080/"
        },
        "id": "eb8KkczGd9d7",
        "outputId": "67c44a1c-05f8-4e78-d9da-aae2a888cf2d"
      },
      "execution_count": 15,
      "outputs": [
        {
          "output_type": "stream",
          "name": "stdout",
          "text": [
            "Training set: \n",
            "Start message: <|startoftext|>Person 1\n",
            "End message: <|startoftext|>Person 2\n",
            "\n",
            "Validation set: \n",
            "Start message: <|startoftext|>Person 1\n",
            "End message: <|startoftext|>Person 1\n"
          ]
        }
      ]
    },
    {
      "cell_type": "markdown",
      "source": [
        "We got the index that we should use to split the data. Now, let's split the tokenized data"
      ],
      "metadata": {
        "id": "iYtDBwn7eq7z"
      }
    },
    {
      "cell_type": "code",
      "source": [
        "train_data = tokenized_data[:split_index]\n",
        "val_data = tokenized_data[split_index:]"
      ],
      "metadata": {
        "id": "JEHeEqzoeMYJ"
      },
      "execution_count": 16,
      "outputs": []
    },
    {
      "cell_type": "markdown",
      "source": [
        "Now, we need to combine the You and Assistant turns into one sequence. We will make sure that the resulting sequence does not exceed the block_size."
      ],
      "metadata": {
        "id": "AfIqU4OLexRp"
      }
    },
    {
      "cell_type": "code",
      "source": [
        "block_size = 256\n",
        "\n",
        "\n",
        "def combine_turns(data: list[list[int]], should_trim_long_sequences: bool) -> list[list[int]]:\n",
        "    combined_turns_data = []\n",
        "    for i in range(0, len(data)-1, 2):\n",
        "        you_message = data[i]\n",
        "        assistant_message = data[i+1]\n",
        "        if not you_message or not assistant_message:\n",
        "            continue\n",
        "\n",
        "        final_message = you_message + assistant_message\n",
        "        if len(final_message) > block_size and should_trim_long_sequences:\n",
        "            final_message = final_message[-block_size:]\n",
        "\n",
        "        combined_turns_data.append(final_message)\n",
        "    return combined_turns_data\n",
        "\n",
        "\n",
        "combined_train_data = combine_turns(\n",
        "    data=train_data,\n",
        "    should_trim_long_sequences=True\n",
        ")\n",
        "combined_val_data = combine_turns(\n",
        "    data=val_data,\n",
        "    should_trim_long_sequences=True\n",
        ")"
      ],
      "metadata": {
        "id": "7NjFi0CleurR"
      },
      "execution_count": 17,
      "outputs": []
    },
    {
      "cell_type": "code",
      "source": [
        "print(\"Train data\")\n",
        "print(f\"Length before: {len(train_data)}\")\n",
        "print(f\"Length after: {len(combined_train_data)}\")\n",
        "\n",
        "print(\"\\nValidation data\")\n",
        "print(f\"Length before: {len(val_data)}\")\n",
        "print(f\"Length after: {len(combined_val_data)}\")"
      ],
      "metadata": {
        "colab": {
          "base_uri": "https://localhost:8080/"
        },
        "id": "p9WmEI4le5aX",
        "outputId": "e42c2a08-3b22-4c7d-c9c7-8cbbc41daaa4"
      },
      "execution_count": 18,
      "outputs": [
        {
          "output_type": "stream",
          "name": "stdout",
          "text": [
            "Train data\n",
            "Length before: 48\n",
            "Length after: 24\n",
            "\n",
            "Validation data\n",
            "Length before: 3\n",
            "Length after: 1\n"
          ]
        }
      ]
    },
    {
      "cell_type": "markdown",
      "source": [
        "We will merge the You and Assistant parts into one sequence. Then, we will try to combine multiple sequences of You and Assistant into a single input, but only if the sequence length stays smaller than the block size."
      ],
      "metadata": {
        "id": "X5ftp1XnfDNX"
      }
    },
    {
      "cell_type": "code",
      "source": [
        "def merge_conversation_turns(combined_data: list[list[int]], block_size: int) -> list[list[int]]:\n",
        "    new_data = []\n",
        "    current_sequence = []\n",
        "\n",
        "    for sequence in combined_data:\n",
        "        if len(current_sequence) + len(sequence) <= block_size:\n",
        "            current_sequence.extend(sequence)\n",
        "        else:\n",
        "            if current_sequence:\n",
        "                new_data.append(current_sequence)\n",
        "            current_sequence = sequence.copy()\n",
        "\n",
        "    # Add the last block if it's not empty\n",
        "    if current_sequence:\n",
        "        new_data.append(current_sequence)\n",
        "\n",
        "    return new_data\n",
        "\n",
        "\n",
        "merged_train_data = merge_conversation_turns(\n",
        "    combined_data=combined_train_data,\n",
        "    block_size=block_size\n",
        ")\n",
        "merged_val_data = merge_conversation_turns(\n",
        "    combined_data=combined_val_data,\n",
        "    block_size=block_size\n",
        ")\n"
      ],
      "metadata": {
        "id": "mjbxsc4ue8ma"
      },
      "execution_count": 19,
      "outputs": []
    },
    {
      "cell_type": "code",
      "source": [
        "len(combined_train_data), len(merged_train_data)"
      ],
      "metadata": {
        "colab": {
          "base_uri": "https://localhost:8080/"
        },
        "id": "oTChUy5XfKrV",
        "outputId": "4dcffc59-eda2-424b-d69e-290ae900aa54"
      },
      "execution_count": 20,
      "outputs": [
        {
          "output_type": "execute_result",
          "data": {
            "text/plain": [
              "(24, 10)"
            ]
          },
          "metadata": {},
          "execution_count": 20
        }
      ]
    },
    {
      "cell_type": "markdown",
      "source": [
        "Let's convert each sequence of tokens into a tensor."
      ],
      "metadata": {
        "id": "2f3J9oF8fWM0"
      }
    },
    {
      "cell_type": "code",
      "source": [
        "import torch\n",
        "\n",
        "def pad_sequence(sequence, block_size, padding_value=0):\n",
        "    \"\"\"Pads a sequence to the given block_size.\"\"\"\n",
        "    if len(sequence) > block_size:\n",
        "        return sequence[:block_size]\n",
        "    else:\n",
        "        return sequence + [padding_value] * (block_size - len(sequence))\n",
        "\n",
        "padded_train_data = [pad_sequence(seq, block_size) for seq in combined_train_data]\n",
        "padded_val_data = [pad_sequence(seq, block_size) for seq in combined_val_data]\n",
        "\n",
        "train_data = torch.tensor(padded_train_data)\n",
        "val_data = torch.tensor(padded_val_data)"
      ],
      "metadata": {
        "id": "iP4R7BhXfQ9W"
      },
      "execution_count": 22,
      "outputs": []
    },
    {
      "cell_type": "markdown",
      "source": [
        "Since our token sequences don't all have the same length, we can't turn the data into a tensor all at once. To do that, all sequences need to have the same length.\n",
        "\n",
        "That's why we need to use padding to fix this problem. We can add padding at the start or end of the sequence. Let's add it to the start"
      ],
      "metadata": {
        "id": "IZ_LZwPZgD4l"
      }
    },
    {
      "cell_type": "code",
      "source": [
        "import torch\n",
        "torch.manual_seed(3647)\n",
        "\n",
        "# The token `<|padding|>` is used to mask the padding tokens.\n",
        "# Masking means the model will ignore these tokens during training.\n",
        "# In other words, the loss will not be calculated for these tokens.\n",
        "padding_token = tokenizer.special_tokens[\"<|padding|>\"]\n",
        "\n",
        "\n",
        "def apply_padding_to_data(data: list[list[int]], block_size: int, padding_token: int) -> torch.Tensor:\n",
        "    tensors = []\n",
        "    for i in range(len(data)):\n",
        "        tensor = torch.tensor(data[i])\n",
        "        padded_tensor = torch.nn.functional.pad(\n",
        "            input=tensor,\n",
        "            # for right padding:\n",
        "            pad=(0, block_size - len(tensor)),\n",
        "            # pad=(block_size - len(tensor), 0),\n",
        "            value=padding_token\n",
        "        )\n",
        "        tensors.append(padded_tensor)\n",
        "\n",
        "    return torch.stack(tensors)\n",
        "\n",
        "\n",
        "train_data_tensor = apply_padding_to_data(\n",
        "    data=merged_train_data,\n",
        "    block_size=block_size,\n",
        "    padding_token=padding_token\n",
        ")\n",
        "val_data_tensor = apply_padding_to_data(\n",
        "    data=merged_val_data,\n",
        "    block_size=block_size,\n",
        "    padding_token=padding_token\n",
        ")\n",
        "\n",
        "train_data_tensor.shape, val_data_tensor.shape\n"
      ],
      "metadata": {
        "colab": {
          "base_uri": "https://localhost:8080/"
        },
        "id": "ZBLvNZfofcXy",
        "outputId": "cf92e7df-28f5-477e-bdc7-02eaaef94b24"
      },
      "execution_count": 23,
      "outputs": [
        {
          "output_type": "execute_result",
          "data": {
            "text/plain": [
              "(torch.Size([10, 256]), torch.Size([1, 256]))"
            ]
          },
          "metadata": {},
          "execution_count": 23
        }
      ]
    },
    {
      "cell_type": "code",
      "source": [
        "train_data_tensor[0]"
      ],
      "metadata": {
        "colab": {
          "base_uri": "https://localhost:8080/"
        },
        "id": "mkArxFMZgUYz",
        "outputId": "846b2bb5-0a81-4be7-f787-08c699ab2ab6"
      },
      "execution_count": 24,
      "outputs": [
        {
          "output_type": "execute_result",
          "data": {
            "text/plain": [
              "tensor([1024,   80,  270,  115,  281,   32,   49, 1025,   72,  101,  121,   10,\n",
              "          72,  111,  119,   32,  296,  101,   32,  121,  324,   63,   10,   91,\n",
              "         520,   47,   48,   50,   47,   50,   48,   50,   53,   44,   32,   57,\n",
              "          58,   49,   56,  909,   77,   93,   32,  126,   32,   80,  270,  115,\n",
              "         281,   32,   50,   58,   32,   72,  101,  121,   33,  348,  843,  109,\n",
              "          32,  103,  378,  100,   44,   32,  796,  360,   32,  636,  324,  116,\n",
              "          32,  121,  324,   63,   10,   91,  520,   47,   48,   50,   47,   50,\n",
              "          48,   50,   53,   44,   32,   57,   58,   50,   48,  909,   77,   93,\n",
              "          32,  126,   32,   80,  270,  115,  281,   32,   49,   58,  348,  843,\n",
              "         109,   32,  103,  378,  100,   32,  116,  378,   44,   32,  106,  117,\n",
              "         333,   32,   97,   32,   98,  438,   32,  685,  346,  100, 1026, 1024,\n",
              "          80,  270,  115,  281,   32,   50, 1025,   76,  281,  103,   32,  110,\n",
              "         105,  536,  116,   63,   10,   91,  520,   47,   48,   50,   47,   50,\n",
              "          48,   50,   53,   44,   32,   57,   58,   50,   50,  909,   77,   93,\n",
              "          32,  126,   32,   80,  270,  115,  281,   32,   49,   58,   32,   89,\n",
              "         101,   97,  104,   44,   32,  431,  100,   32,  116,  111,   32,  102,\n",
              "         272,  419,  104,   32,  115,  111,  343,   32,  119,  288,  107, 1026,\n",
              "        1028, 1028, 1028, 1028, 1028, 1028, 1028, 1028, 1028, 1028, 1028, 1028,\n",
              "        1028, 1028, 1028, 1028, 1028, 1028, 1028, 1028, 1028, 1028, 1028, 1028,\n",
              "        1028, 1028, 1028, 1028, 1028, 1028, 1028, 1028, 1028, 1028, 1028, 1028,\n",
              "        1028, 1028, 1028, 1028, 1028, 1028, 1028, 1028, 1028, 1028, 1028, 1028,\n",
              "        1028, 1028, 1028, 1028])"
            ]
          },
          "metadata": {},
          "execution_count": 24
        }
      ]
    },
    {
      "cell_type": "code",
      "source": [
        "val_data_tensor[0]"
      ],
      "metadata": {
        "colab": {
          "base_uri": "https://localhost:8080/"
        },
        "id": "rs_VwAdjgZCx",
        "outputId": "90afa289-676c-43bb-d7af-57244b286cd2"
      },
      "execution_count": 25,
      "outputs": [
        {
          "output_type": "execute_result",
          "data": {
            "text/plain": [
              "tensor([1024,   80,  270,  115,  281,   32,   49, 1025,   89,  324,   32,  866,\n",
              "         346,   63,  348,   32,   99,  276,   32,  100,  313,  118,  101,   32,\n",
              "         353,   32,  121,  324,  843,  346,   32,  685,  346,  100, 1026, 1024,\n",
              "          80,  270,  115,  281,   32,   50, 1025,   78,   97,  104,   44,  348,\n",
              "          32,  103,  565,   32,  374,  115, 1026, 1028, 1028, 1028, 1028, 1028,\n",
              "        1028, 1028, 1028, 1028, 1028, 1028, 1028, 1028, 1028, 1028, 1028, 1028,\n",
              "        1028, 1028, 1028, 1028, 1028, 1028, 1028, 1028, 1028, 1028, 1028, 1028,\n",
              "        1028, 1028, 1028, 1028, 1028, 1028, 1028, 1028, 1028, 1028, 1028, 1028,\n",
              "        1028, 1028, 1028, 1028, 1028, 1028, 1028, 1028, 1028, 1028, 1028, 1028,\n",
              "        1028, 1028, 1028, 1028, 1028, 1028, 1028, 1028, 1028, 1028, 1028, 1028,\n",
              "        1028, 1028, 1028, 1028, 1028, 1028, 1028, 1028, 1028, 1028, 1028, 1028,\n",
              "        1028, 1028, 1028, 1028, 1028, 1028, 1028, 1028, 1028, 1028, 1028, 1028,\n",
              "        1028, 1028, 1028, 1028, 1028, 1028, 1028, 1028, 1028, 1028, 1028, 1028,\n",
              "        1028, 1028, 1028, 1028, 1028, 1028, 1028, 1028, 1028, 1028, 1028, 1028,\n",
              "        1028, 1028, 1028, 1028, 1028, 1028, 1028, 1028, 1028, 1028, 1028, 1028,\n",
              "        1028, 1028, 1028, 1028, 1028, 1028, 1028, 1028, 1028, 1028, 1028, 1028,\n",
              "        1028, 1028, 1028, 1028, 1028, 1028, 1028, 1028, 1028, 1028, 1028, 1028,\n",
              "        1028, 1028, 1028, 1028, 1028, 1028, 1028, 1028, 1028, 1028, 1028, 1028,\n",
              "        1028, 1028, 1028, 1028, 1028, 1028, 1028, 1028, 1028, 1028, 1028, 1028,\n",
              "        1028, 1028, 1028, 1028, 1028, 1028, 1028, 1028, 1028, 1028, 1028, 1028,\n",
              "        1028, 1028, 1028, 1028, 1028, 1028, 1028, 1028, 1028, 1028, 1028, 1028,\n",
              "        1028, 1028, 1028, 1028])"
            ]
          },
          "metadata": {},
          "execution_count": 25
        }
      ]
    },
    {
      "cell_type": "markdown",
      "source": [
        "5. Creat the data loaders"
      ],
      "metadata": {
        "id": "yJq1YS4Lgy0K"
      }
    },
    {
      "cell_type": "code",
      "source": [
        "from typing import Tuple\n",
        "from torch.utils.data import Dataset, DataLoader\n",
        "\n",
        "\n",
        "class FineTuningDataset(Dataset):\n",
        "    def __init__(self, data: torch.Tensor, device: torch.device, padding_token: int):\n",
        "        self.data = data  # shape: (num_samples, block_size)\n",
        "        self.device = device\n",
        "        self.padding_token = padding_token\n",
        "\n",
        "    def __len__(self) -> int:\n",
        "        return len(self.data)\n",
        "\n",
        "    def __getitem__(self, index: int) -> Tuple[torch.Tensor, torch.Tensor]:\n",
        "        sample = self.data[index]\n",
        "        x = sample.to(self.device)\n",
        "        y = sample[1:].to(self.device)\n",
        "        padding_tensor = torch.tensor([self.padding_token], device=self.device)\n",
        "        y = torch.cat((y, padding_tensor))\n",
        "        return x, y\n",
        "\n",
        "\n",
        "batch_size = 32\n",
        "device = torch.device(\"cuda\" if torch.cuda.is_available() else \"cpu\")\n",
        "\n",
        "train_dataset = FineTuningDataset(\n",
        "    data=train_data_tensor,\n",
        "    device=device,\n",
        "    padding_token=padding_token\n",
        ")\n",
        "train_loader = DataLoader(\n",
        "    dataset=train_dataset,\n",
        "    batch_size=batch_size,\n",
        "    shuffle=True\n",
        ")\n",
        "\n",
        "val_dataset = FineTuningDataset(\n",
        "    data=val_data_tensor,\n",
        "    device=device,\n",
        "    padding_token=padding_token\n",
        ")\n",
        "val_loader = DataLoader(\n",
        "    dataset=val_dataset,\n",
        "    batch_size=batch_size,\n",
        "    shuffle=False\n",
        ")\n"
      ],
      "metadata": {
        "id": "B9jT-VRMgm0m"
      },
      "execution_count": 26,
      "outputs": []
    },
    {
      "cell_type": "code",
      "source": [
        "x, y = next(iter(train_loader))\n",
        "x.shape, y.shape"
      ],
      "metadata": {
        "colab": {
          "base_uri": "https://localhost:8080/"
        },
        "id": "WlWqjhGPg3n7",
        "outputId": "ad3b5fbf-b12c-492c-e6e0-c8ed732bc632"
      },
      "execution_count": 27,
      "outputs": [
        {
          "output_type": "execute_result",
          "data": {
            "text/plain": [
              "(torch.Size([10, 256]), torch.Size([10, 256]))"
            ]
          },
          "metadata": {},
          "execution_count": 27
        }
      ]
    },
    {
      "cell_type": "markdown",
      "source": [
        "#Fine-tuning\n",
        "\n",
        "1. Load the saved checkpoint"
      ],
      "metadata": {
        "id": "dLUA6ZyNhBnn"
      }
    },
    {
      "cell_type": "code",
      "source": [
        "from transformer.model import GPTLanguageModel\n",
        "\n",
        "block_size = 256\n",
        "n_embd = 516\n",
        "n_head = 12\n",
        "n_layer = 4\n",
        "dropout = 0.2\n",
        "batch_size = 64\n",
        "vocab_size = get_vocab_size(tokenizer)\n",
        "\n",
        "model = GPTLanguageModel(\n",
        "    vocab_size=vocab_size,\n",
        "    block_size=block_size,\n",
        "    n_embd=n_embd,\n",
        "    n_head=n_head,\n",
        "    n_layer=n_layer,\n",
        "    dropout=dropout,\n",
        "    device=device,\n",
        "    ignore_index=tokenizer.special_tokens[\"<|padding|>\"],\n",
        ").to(device)\n",
        "model = torch.compile(model)\n",
        "\n",
        "print(sum(p.numel() for p in model.parameters())/1e6, 'M parameters')"
      ],
      "metadata": {
        "colab": {
          "base_uri": "https://localhost:8080/"
        },
        "id": "pk7XhmByg64I",
        "outputId": "bfc86028-45c9-406d-f60f-15fd2cf2f293"
      },
      "execution_count": 29,
      "outputs": [
        {
          "output_type": "stream",
          "name": "stdout",
          "text": [
            "13.474826 M parameters\n"
          ]
        }
      ]
    },
    {
      "cell_type": "code",
      "source": [
        "checkpoint_path = \"/content/TRAIN_MODEL/output/checkpoint_0.pth\"\n",
        "checkpoint = torch.load(checkpoint_path, weights_only=True)\n",
        "model_state_dict = checkpoint[\"model_state_dict\"]\n",
        "model.load_state_dict(model_state_dict)"
      ],
      "metadata": {
        "colab": {
          "base_uri": "https://localhost:8080/"
        },
        "id": "icf5NQMehOO3",
        "outputId": "694b8666-97a1-4f43-b728-ea468b22a446"
      },
      "execution_count": 30,
      "outputs": [
        {
          "output_type": "execute_result",
          "data": {
            "text/plain": [
              "<All keys matched successfully>"
            ]
          },
          "metadata": {},
          "execution_count": 30
        }
      ]
    },
    {
      "cell_type": "markdown",
      "source": [
        "Generate from the model to make sure that the weights were loaded correctly"
      ],
      "metadata": {
        "id": "zE66n4HJlh1u"
      }
    },
    {
      "cell_type": "code",
      "source": [
        "input_tokens = tokenizer.encode(\" is my name on the list \", allowed_special=\"all\")\n",
        "input_tokens = torch.tensor(\n",
        "    input_tokens, dtype=torch.long).unsqueeze(0).to(device)\n",
        "\n",
        "model.eval()\n",
        "with torch.no_grad():\n",
        "    output = model.generate(input_tokens=input_tokens, max_new_tokens=100)\n",
        "\n",
        "print(tokenizer.decode(output[0].tolist()))"
      ],
      "metadata": {
        "colab": {
          "base_uri": "https://localhost:8080/"
        },
        "id": "SNuVlzIxldX1",
        "outputId": "a228394e-91f6-412b-9265-c88a08f5b2b1"
      },
      "execution_count": 32,
      "outputs": [
        {
          "output_type": "stream",
          "name": "stdout",
          "text": [
            " is my name on the list Annames that 26 cocomes fice scon The was ded odebecause If there are carryover in carryover trough nexted , fine class Group ever lass abeg Who day? Yes ooo our 170\n",
            "Please memprigroup ad seme\n"
          ]
        }
      ]
    },
    {
      "cell_type": "markdown",
      "source": [
        "2. Estimate loss"
      ],
      "metadata": {
        "id": "fe9quf1ZmLVO"
      }
    },
    {
      "cell_type": "code",
      "source": [
        "from typing import Dict\n",
        "\n",
        "\n",
        "@torch.no_grad()\n",
        "def estimate_loss(\n",
        "    model: torch.nn.Module,\n",
        "    train_loader: DataLoader,\n",
        "    val_loader: DataLoader,\n",
        ") -> Dict[str, float]:\n",
        "    output = {}\n",
        "    model.eval()\n",
        "\n",
        "    for split, loader in [('train', train_loader), ('val', val_loader)]:\n",
        "        losses = []\n",
        "        for x, y in loader:\n",
        "            with torch.no_grad():\n",
        "                _, loss = model(x, y)\n",
        "            losses.append(loss.item())\n",
        "        output[split] = sum(losses) / len(losses)\n",
        "\n",
        "    model.train()\n",
        "    return output"
      ],
      "metadata": {
        "id": "RS03Z-yVlrox"
      },
      "execution_count": 33,
      "outputs": []
    },
    {
      "cell_type": "markdown",
      "source": [
        "3. Save checkpoints"
      ],
      "metadata": {
        "id": "JRURCuptmXby"
      }
    },
    {
      "cell_type": "code",
      "source": [
        "def save_checkpoint(\n",
        "    model: GPTLanguageModel,\n",
        "    optimizer: torch.optim.Optimizer,\n",
        "    epoch: int,\n",
        "    loss: float,\n",
        "    file_path: str = \"checkpoint.pth\"\n",
        ") -> None:\n",
        "    checkpoint = {\n",
        "        'epoch': epoch,\n",
        "        'model_state_dict': model.state_dict(),\n",
        "        'optimizer_state_dict': optimizer.state_dict(),\n",
        "        'loss': loss\n",
        "    }\n",
        "    torch.save(checkpoint, file_path)"
      ],
      "metadata": {
        "id": "7mYBUB4gmRk9"
      },
      "execution_count": 34,
      "outputs": []
    },
    {
      "cell_type": "markdown",
      "source": [
        "4. Training loop"
      ],
      "metadata": {
        "id": "wg984Ciim5mL"
      }
    },
    {
      "cell_type": "code",
      "source": [
        "max_iters = 20\n",
        "eval_interval = 5\n",
        "learning_rate = 1e-4\n",
        "\n",
        "optimizer = torch.optim.AdamW(model.parameters(), lr=learning_rate)\n",
        "train_losses = []\n",
        "val_losses = []\n",
        "\n",
        "for iteration in range(max_iters):\n",
        "    for batch_idx, (x_batch, y_batch) in enumerate(train_loader):\n",
        "        # Evaluation\n",
        "        if batch_idx % eval_interval == 0 or batch_idx == len(train_loader) - 1:\n",
        "            losses = estimate_loss(\n",
        "                model=model,\n",
        "                train_loader=train_loader,\n",
        "                val_loader=val_loader,\n",
        "            )\n",
        "            train_losses.append(losses['train'])\n",
        "            val_losses.append(losses['val'])\n",
        "\n",
        "            print(\n",
        "                f\"iteration {iteration} / step {batch_idx}: \"\n",
        "                f\"train loss {losses['train']:.4f}, \"\n",
        "                f\"val loss {losses['val']:.4f}\"\n",
        "            )\n",
        "\n",
        "        # Training step\n",
        "        logits, loss = model(x_batch, y_batch)\n",
        "        optimizer.zero_grad(set_to_none=True)\n",
        "        loss.backward()\n",
        "        optimizer.step()\n",
        "\n",
        "    # Save checkpoint\n",
        "    save_checkpoint(\n",
        "        model=model,\n",
        "        optimizer=optimizer,\n",
        "        epoch=iteration,\n",
        "        loss=loss.item(),\n",
        "        file_path=f\"/content/TRAIN_MODEL/output/checkpoint2.0_{iteration}.pth\"\n",
        "    )\n"
      ],
      "metadata": {
        "colab": {
          "base_uri": "https://localhost:8080/"
        },
        "id": "W74dYoA6mba9",
        "outputId": "dcf0a3bc-0e54-4049-8b44-76dbfc0b6ee4"
      },
      "execution_count": 35,
      "outputs": [
        {
          "output_type": "stream",
          "name": "stderr",
          "text": [
            "W0621 13:11:26.006000 821 torch/_inductor/utils.py:1137] [0/0] Not enough SMs to use max_autotune_gemm mode\n"
          ]
        },
        {
          "output_type": "stream",
          "name": "stdout",
          "text": [
            "iteration 0 / step 0: train loss 5.9129, val loss 6.0196\n",
            "iteration 1 / step 0: train loss 4.3924, val loss 4.5751\n",
            "iteration 2 / step 0: train loss 3.8807, val loss 3.8717\n",
            "iteration 3 / step 0: train loss 3.4363, val loss 3.5226\n",
            "iteration 4 / step 0: train loss 3.1353, val loss 3.2649\n",
            "iteration 5 / step 0: train loss 2.8900, val loss 3.0888\n",
            "iteration 6 / step 0: train loss 2.6542, val loss 2.9360\n",
            "iteration 7 / step 0: train loss 2.4560, val loss 2.8367\n",
            "iteration 8 / step 0: train loss 2.3040, val loss 2.7819\n",
            "iteration 9 / step 0: train loss 2.1570, val loss 2.7400\n",
            "iteration 10 / step 0: train loss 2.0193, val loss 2.6904\n",
            "iteration 11 / step 0: train loss 1.9004, val loss 2.6164\n",
            "iteration 12 / step 0: train loss 1.7899, val loss 2.5286\n",
            "iteration 13 / step 0: train loss 1.6871, val loss 2.4515\n",
            "iteration 14 / step 0: train loss 1.5916, val loss 2.3939\n",
            "iteration 15 / step 0: train loss 1.5070, val loss 2.3568\n",
            "iteration 16 / step 0: train loss 1.4351, val loss 2.3314\n",
            "iteration 17 / step 0: train loss 1.3687, val loss 2.3076\n",
            "iteration 18 / step 0: train loss 1.3007, val loss 2.2838\n",
            "iteration 19 / step 0: train loss 1.2333, val loss 2.2598\n"
          ]
        }
      ]
    },
    {
      "cell_type": "code",
      "source": [
        "import matplotlib.pyplot as plt\n",
        "\n",
        "plt.figure(figsize=(10, 5))\n",
        "plt.plot(train_losses, label=\"Train Loss\")\n",
        "plt.plot(val_losses, label=\"Validation Loss\")\n",
        "plt.xlabel(\"Evaluation Step\")\n",
        "plt.ylabel(\"Loss\")\n",
        "plt.title(\"Training and Validation Loss Over Time\")\n",
        "plt.legend()\n",
        "plt.grid()\n",
        "plt.show()"
      ],
      "metadata": {
        "colab": {
          "base_uri": "https://localhost:8080/",
          "height": 487
        },
        "id": "2Yp_FAt-oMQJ",
        "outputId": "e06a5a15-f81d-4eb2-b851-bab8827854ab"
      },
      "execution_count": 36,
      "outputs": [
        {
          "output_type": "display_data",
          "data": {
            "text/plain": [
              "<Figure size 1000x500 with 1 Axes>"
            ],
            "image/png": "[encoded data removed]"
          },
          "metadata": {}
        }
      ]
    },
    {
      "cell_type": "code",
      "source": [
        "def get_input_tokens(message: str) -> torch.Tensor:\n",
        "    input_tokens = tokenizer.encode(\n",
        "        f\"<|startoftext|>{message}<|separator|>\", allowed_special=\"all\")\n",
        "    input_tokens = torch.tensor(\n",
        "        input_tokens, dtype=torch.long).unsqueeze(0).to(device)\n",
        "    return input_tokens\n",
        "\n",
        "\n",
        "user_message = \"where you dey\"\n",
        "input_tokens = get_input_tokens(message=user_message)\n",
        "model_answer = \"\"\n",
        "\n",
        "model.eval()\n",
        "while True:\n",
        "    output_tokens = model.generate(input_tokens=input_tokens, max_new_tokens=1)\n",
        "    last_generated_token = output_tokens[0, -1].item()\n",
        "    if last_generated_token == tokenizer.special_tokens[\"<|endoftext|>\"]:\n",
        "        break\n",
        "\n",
        "    input_tokens = torch.cat((input_tokens, output_tokens[:, -1:]), dim=1)\n",
        "    model_answer += tokenizer.decode([last_generated_token])\n",
        "\n",
        "    if len(output_tokens[0]) > block_size:\n",
        "        break\n",
        "\n",
        "print(f\"You: {user_message}\")\n",
        "print(f\"Assistant: {model_answer}\")\n"
      ],
      "metadata": {
        "colab": {
          "base_uri": "https://localhost:8080/"
        },
        "id": "ryQxLXcMombL",
        "outputId": "2cbd9b84-9bc4-4aa8-d018-46abd77b77d0"
      },
      "execution_count": 40,
      "outputs": [
        {
          "output_type": "stream",
          "name": "stdout",
          "text": [
            "You: where you dey\n",
            "Assistant: No, you wos Thanly someone shan friendan come wiri you to se lve thrie ch Ea new a it?gwu Maurice Lotankaled No: I’m project!GODSPPerson 2CYNTHHow semester where, I Are'm ll adrigood, I mint doing the best uses ahere problem waiting!, I’t s took, I’m here on s that?\n"
          ]
        }
      ]
    },
    {
      "cell_type": "code",
      "source": [],
      "metadata": {
        "id": "hCta6vAzouoh"
      },
      "execution_count": null,
      "outputs": []
    }
  ]
}