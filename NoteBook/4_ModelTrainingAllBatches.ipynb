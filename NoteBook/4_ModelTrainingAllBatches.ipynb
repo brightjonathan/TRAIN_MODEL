{
  "nbformat": 4,
  "nbformat_minor": 0,
  "metadata": {
    "colab": {
      "provenance": [],
      "gpuType": "T4"
    },
    "kernelspec": {
      "name": "python3",
      "display_name": "Python 3"
    },
    "language_info": {
      "name": "python"
    },
    "accelerator": "GPU"
  },
  "cells": [
    {
      "cell_type": "markdown",
      "source": [
        "# Model traing with All Batches"
      ],
      "metadata": {
        "id": "2evgKDj6q9eH"
      }
    },
    {
      "cell_type": "markdown",
      "source": [
        "1. Load the tokenizer"
      ],
      "metadata": {
        "id": "3qFMysfFrG8Z"
      }
    },
    {
      "cell_type": "code",
      "source": [
        "import sys\n",
        "sys.path.append('..')"
      ],
      "metadata": {
        "id": "u_LIZnObrGNy"
      },
      "execution_count": 5,
      "outputs": []
    },
    {
      "cell_type": "code",
      "source": [
        "#his code sets up a tokenizer by loading a pre-trained model and provides a utility\n",
        "#function to determine the total number of unique tokens the tokenizer understands\n",
        "\n",
        "from minbpe.basic import BasicTokenizer\n",
        "\n",
        "tokenizer = BasicTokenizer()\n",
        "tokenizer.load(model_file=\"/content/TRAIN_MODEL/tokenizer/my_tokenizer.model\")\n",
        "\n",
        "\n",
        "def get_vocab_size(tokenizer: BasicTokenizer) -> int:\n",
        "    vocab = tokenizer.vocab\n",
        "    special_tokens = tokenizer.special_tokens\n",
        "\n",
        "    return len(vocab) + len(special_tokens)"
      ],
      "metadata": {
        "id": "Pajj59BGrOsE"
      },
      "execution_count": 6,
      "outputs": []
    },
    {
      "cell_type": "markdown",
      "source": [
        "2. Create the model"
      ],
      "metadata": {
        "id": "ckPM_1nNvExf"
      }
    },
    {
      "cell_type": "code",
      "source": [
        "import torch\n",
        "torch.manual_seed(3647)\n",
        "\n",
        "# Setting a seed ensures that operations that involve randomness (like initializing weights in a neural network)\n",
        "#will produce the same results each time the code is run with the same seed.\n",
        "#The number 3647 is the specific seed value being used."
      ],
      "metadata": {
        "colab": {
          "base_uri": "https://localhost:8080/"
        },
        "id": "mckCAAy9vHJ2",
        "outputId": "6178b567-9eee-4e76-d213-048a5a80dc65"
      },
      "execution_count": 7,
      "outputs": [
        {
          "output_type": "execute_result",
          "data": {
            "text/plain": [
              "<torch._C.Generator at 0x781780799e90>"
            ]
          },
          "metadata": {},
          "execution_count": 7
        }
      ]
    },
    {
      "cell_type": "code",
      "source": [
        "#passing the hyper-parameter to the GPT1 Model for computation\n",
        "from transformer.model import GPTLanguageModel\n",
        "\n",
        "block_size = 256\n",
        "n_embd = 516\n",
        "n_head = 12\n",
        "n_layer = 4\n",
        "dropout = 0.2\n",
        "batch_size = 64\n",
        "vocab_size = get_vocab_size(tokenizer)\n",
        "device = 'cuda' if torch.cuda.is_available() else 'cpu'\n",
        "\n",
        "model = GPTLanguageModel(\n",
        "    vocab_size=vocab_size,\n",
        "    block_size=block_size,\n",
        "    n_embd=n_embd,\n",
        "    n_head=n_head,\n",
        "    n_layer=n_layer,\n",
        "    dropout=dropout,\n",
        "    device=device\n",
        ").to(device)\n",
        "model = torch.compile(model)\n",
        "\n",
        "print(sum(p.numel() for p in model.parameters())/1e6, 'M parameters')"
      ],
      "metadata": {
        "colab": {
          "base_uri": "https://localhost:8080/"
        },
        "id": "WaTH6BNbvok5",
        "outputId": "9c70f460-6b19-4d11-b263-fc1eb694ce21"
      },
      "execution_count": 8,
      "outputs": [
        {
          "output_type": "stream",
          "name": "stdout",
          "text": [
            "13.474826 M parameters\n"
          ]
        }
      ]
    },
    {
      "cell_type": "markdown",
      "source": [
        "# Data preparation\n",
        "\n",
        "\n",
        "1. Load the data\n"
      ],
      "metadata": {
        "id": "DHaNkvV6xhQ6"
      }
    },
    {
      "cell_type": "code",
      "source": [
        "# this code loads text data from a file, converts it into a sequence of numerical tokens using a pre-trained tokenizer,\n",
        "#and then prints the total number of tokens in the resulting sequence\n",
        "\n",
        "with open(\"/content/TRAIN_MODEL/output/combined_text.txt\", \"r\") as f:\n",
        "    text_sequence = f.read()\n",
        "\n",
        "encoded_text_sequence = tokenizer.encode(text_sequence)\n",
        "len(encoded_text_sequence)"
      ],
      "metadata": {
        "colab": {
          "base_uri": "https://localhost:8080/"
        },
        "id": "CPfgtmG7xpU_",
        "outputId": "e5b69808-1ded-41d7-b9c5-3878dfa8c2a5"
      },
      "execution_count": 9,
      "outputs": [
        {
          "output_type": "execute_result",
          "data": {
            "text/plain": [
              "669641"
            ]
          },
          "metadata": {},
          "execution_count": 9
        }
      ]
    },
    {
      "cell_type": "markdown",
      "source": [
        "2. Split it into train and test"
      ],
      "metadata": {
        "id": "DKDJd86p05N7"
      }
    },
    {
      "cell_type": "code",
      "source": [
        "#This code converts your tokenized data into a PyTorch tensor and then splits that tensor into two sets:\n",
        "#one for training your model and one for validating its performance\n",
        "\n",
        "data = torch.tensor(encoded_text_sequence, dtype=torch.long)\n",
        "split_index = int(0.9*len(data))\n",
        "train_data = data[:split_index]\n",
        "val_data = data[split_index:]"
      ],
      "metadata": {
        "id": "o-sGrAFd04V6"
      },
      "execution_count": 10,
      "outputs": []
    },
    {
      "cell_type": "markdown",
      "source": [
        "3. Data loader"
      ],
      "metadata": {
        "id": "CnVOB17-2yHc"
      }
    },
    {
      "cell_type": "code",
      "source": [
        "from typing import Tuple\n",
        "from torch.utils.data import Dataset, DataLoader\n",
        "\n",
        "\n",
        "class TextDataset(Dataset):\n",
        "    def __init__(self, data: torch.Tensor, block_size: int) -> None:\n",
        "        self.data = data\n",
        "        self.block_size = block_size\n",
        "\n",
        "    def __len__(self) -> int:\n",
        "        return len(self.data) - self.block_size\n",
        "\n",
        "    def __getitem__(self, index: int) -> Tuple[torch.Tensor, torch.Tensor]:\n",
        "        x = self.data[index:index + self.block_size]\n",
        "        y = self.data[index + 1:index + self.block_size + 1]\n",
        "        return x, y\n",
        "\n",
        "\n",
        "def get_dataloaders(\n",
        "        train_data: torch.Tensor,\n",
        "        val_data: torch.Tensor,\n",
        "        block_size: int,\n",
        "        batch_size: int,\n",
        "        device: torch.device\n",
        ") -> Tuple[DataLoader, DataLoader]:\n",
        "    train_dataset = TextDataset(train_data.to(device), block_size)\n",
        "    val_dataset = TextDataset(val_data.to(device), block_size)\n",
        "\n",
        "    train_loader = DataLoader(\n",
        "        train_dataset,\n",
        "        batch_size=batch_size,\n",
        "        shuffle=True,\n",
        "    )\n",
        "    val_loader = DataLoader(\n",
        "        val_dataset,\n",
        "        batch_size=batch_size,\n",
        "        shuffle=False,\n",
        "    )\n",
        "\n",
        "    return train_loader, val_loader\n",
        "\n",
        "    #This code defines a custom dataset class to handle the sequential nature of text data for language modeling and\n",
        "    #provides a convenient function to create data loaders that will be used to feed batches of this data to your model during training and evaluation"
      ],
      "metadata": {
        "id": "6EHobr0A20vT"
      },
      "execution_count": 11,
      "outputs": []
    },
    {
      "cell_type": "code",
      "source": [
        "# this code creates the data loaders using the previously defined function and then retrieves and displays the shape of a sample batch from the training data loader.\n",
        "#This is often done to verify that the data is being loaded and batched correctly before starting the training process\n",
        "\n",
        "train_loader, val_loader = get_dataloaders(\n",
        "    train_data=train_data,\n",
        "    val_data=val_data,\n",
        "    block_size=block_size,\n",
        "    batch_size=batch_size,\n",
        "    device=device\n",
        ")\n",
        "x, y = next(iter(train_loader))\n",
        "x.shape, y.shape"
      ],
      "metadata": {
        "colab": {
          "base_uri": "https://localhost:8080/"
        },
        "id": "6nBlkW_1CoKg",
        "outputId": "2c89c7e8-a24a-4ae1-d7cb-fb4f83e2dc52"
      },
      "execution_count": 12,
      "outputs": [
        {
          "output_type": "execute_result",
          "data": {
            "text/plain": [
              "(torch.Size([64, 256]), torch.Size([64, 256]))"
            ]
          },
          "metadata": {},
          "execution_count": 12
        }
      ]
    },
    {
      "cell_type": "markdown",
      "source": [
        "4. Training"
      ],
      "metadata": {
        "id": "7imJVuZ5DRKg"
      }
    },
    {
      "cell_type": "code",
      "source": [
        "#this code defines a function that efficiently estimates the performance of your language model on a subset of the training and validation data by calculating the average loss without computing gradients.\n",
        "#This function is typically called periodically during training to monitor the model's progress and detect overfitting.\n",
        "\n",
        "from typing import Dict\n",
        "\n",
        "\n",
        "@torch.no_grad()\n",
        "def estimate_loss(\n",
        "    model: torch.nn.Module,\n",
        "    train_loader: DataLoader,\n",
        "    val_loader: DataLoader,\n",
        "    eval_iters: int\n",
        ") -> Dict[str, float]:\n",
        "    output = {}\n",
        "    model.eval()\n",
        "\n",
        "    for split, loader in [('train', train_loader), ('val', val_loader)]:\n",
        "        losses = torch.zeros(eval_iters)\n",
        "        for i, (x, y) in enumerate(loader):\n",
        "            if i >= eval_iters:\n",
        "                break\n",
        "            with torch.no_grad():\n",
        "                _, loss = model(x, y)\n",
        "            losses[i] = loss.item()\n",
        "        output[split] = losses.mean().item()\n",
        "\n",
        "    model.train()\n",
        "    return output"
      ],
      "metadata": {
        "id": "jfSED5ntDSFu"
      },
      "execution_count": 13,
      "outputs": []
    },
    {
      "cell_type": "code",
      "source": [
        "#this code defines a function that packages the essential training information (model parameters, optimizer state, epoch, and loss)\n",
        "#into a dictionary and saves it to a file, allowing you to easily resume training or use the trained model later\n",
        "\n",
        "def save_checkpoint(\n",
        "    model: GPTLanguageModel,\n",
        "    optimizer: torch.optim.Optimizer,\n",
        "    epoch: int,\n",
        "    loss: float,\n",
        "    file_path: str = \"checkpoint.pth\"\n",
        ") -> None:\n",
        "    checkpoint = {\n",
        "        'epoch': epoch,\n",
        "        'model_state_dict': model.state_dict(),\n",
        "        'optimizer_state_dict': optimizer.state_dict(),\n",
        "        'loss': loss\n",
        "    }\n",
        "    torch.save(checkpoint, file_path)"
      ],
      "metadata": {
        "id": "sDGti1OMKM0L"
      },
      "execution_count": 14,
      "outputs": []
    },
    {
      "cell_type": "code",
      "source": [
        "# this code defines the core training process for your language model, including hyperparameter settings,\n",
        "#optimizer initialization, data loading, iterative training steps, periodic evaluation, early stopping based on\n",
        "#validation loss, and saving model checkpoints.\n",
        "\n",
        "max_iters = 10\n",
        "eval_interval = 50\n",
        "eval_iters = 200\n",
        "learning_rate = 3e-4\n",
        "patience = 3\n",
        "\n",
        "optimizer = torch.optim.AdamW(model.parameters(), lr=learning_rate)\n",
        "train_loader, val_loader = get_dataloaders(\n",
        "    train_data=train_data,\n",
        "    val_data=val_data,\n",
        "    block_size=block_size,\n",
        "    batch_size=batch_size,\n",
        "    device=device\n",
        ")\n",
        "\n",
        "train_losses = []\n",
        "val_losses = []\n",
        "best_val_loss = float('inf')\n",
        "epochs_without_improvement = 0\n",
        "\n",
        "for iteration in range(max_iters):\n",
        "    for batch_idx, (x_batch, y_batch) in enumerate(train_loader):\n",
        "        # Training step\n",
        "        logits, loss = model(x_batch, y_batch)\n",
        "        optimizer.zero_grad(set_to_none=True)\n",
        "        loss.backward()\n",
        "        optimizer.step()\n",
        "\n",
        "        if batch_idx % eval_interval == 0 or batch_idx == len(train_loader) - 1:\n",
        "            losses = estimate_loss(\n",
        "                model=model,\n",
        "                train_loader=train_loader,\n",
        "                val_loader=val_loader,\n",
        "                eval_iters=min(eval_iters, len(val_loader))\n",
        "            )\n",
        "            train_losses.append(losses['train'])\n",
        "            val_losses.append(losses['val'])\n",
        "\n",
        "            print(\n",
        "                f\"iteration {iteration} / step {batch_idx}: \"\n",
        "                f\"train loss {losses['train']:.4f}, \"\n",
        "                f\"val loss {losses['val']:.4f}\"\n",
        "            )\n",
        "\n",
        "            # Early stopping check\n",
        "            if losses['val'] < best_val_loss:\n",
        "                best_val_loss = losses['val']\n",
        "                epochs_without_improvement = 0\n",
        "                save_checkpoint(model, optimizer, iteration, loss.item(), \"best_checkpoint.pth\")\n",
        "            else:\n",
        "                epochs_without_improvement += 1\n",
        "                if epochs_without_improvement >= patience:\n",
        "                    print(f\"Early stopping triggered at epoch {iteration}\")\n",
        "                    break\n",
        "\n",
        "\n",
        "    save_checkpoint(\n",
        "        model=model,\n",
        "        optimizer=optimizer,\n",
        "        epoch=iteration,\n",
        "        loss=loss.item(),\n",
        "        file_path=f\"/content/TRAIN_MODEL/output/checkpoint_{iteration}.pth\"\n",
        "    )\n",
        "\n",
        "    if epochs_without_improvement >= patience:\n",
        "        break"
      ],
      "metadata": {
        "id": "fRRWxn2pKxhK",
        "colab": {
          "base_uri": "https://localhost:8080/"
        },
        "outputId": "5921db50-0f2c-40ad-b05b-76111a4765d3"
      },
      "execution_count": 16,
      "outputs": [
        {
          "output_type": "stream",
          "name": "stdout",
          "text": [
            "iteration 0 / step 0: train loss 6.6553, val loss 6.6367\n",
            "iteration 0 / step 50: train loss 4.0925, val loss 4.2308\n",
            "iteration 0 / step 100: train loss 2.4586, val loss 2.8926\n",
            "iteration 0 / step 150: train loss 1.8875, val loss 2.4077\n",
            "iteration 0 / step 200: train loss 1.6662, val loss 2.1819\n",
            "iteration 0 / step 250: train loss 1.5472, val loss 2.0856\n",
            "iteration 0 / step 300: train loss 1.4235, val loss 2.0020\n",
            "iteration 0 / step 350: train loss 1.3201, val loss 1.9887\n",
            "iteration 0 / step 400: train loss 1.3004, val loss 1.9695\n",
            "iteration 0 / step 450: train loss 1.2582, val loss 1.9494\n",
            "iteration 0 / step 500: train loss 1.1773, val loss 1.9189\n",
            "iteration 0 / step 550: train loss 1.1300, val loss 1.9860\n",
            "iteration 0 / step 600: train loss 1.0876, val loss 1.9095\n",
            "iteration 0 / step 650: train loss 1.0454, val loss 1.9221\n",
            "iteration 0 / step 700: train loss 1.0198, val loss 1.9165\n",
            "iteration 0 / step 750: train loss 0.9843, val loss 1.8571\n",
            "iteration 0 / step 800: train loss 0.9487, val loss 1.8864\n",
            "iteration 0 / step 850: train loss 0.8908, val loss 1.8988\n",
            "iteration 0 / step 900: train loss 0.8837, val loss 1.8896\n",
            "Early stopping triggered at epoch 0\n"
          ]
        }
      ]
    },
    {
      "cell_type": "markdown",
      "source": [
        "✅ Final Assessment:\n",
        " 1. your model has learned well — both losses dropped significantly.\n",
        " 2. Validation loss leveled off, so early stopping was correct.\n",
        " 3. You have a well-trained model with good generalization for this epoch"
      ],
      "metadata": {
        "id": "_8b5H3xJsylr"
      }
    },
    {
      "cell_type": "code",
      "source": [
        "import matplotlib.pyplot as plt\n",
        "\n",
        "plt.figure(figsize=(10, 5))\n",
        "plt.plot(train_losses, label=\"Train Loss\", marker='o')\n",
        "plt.plot(val_losses, label=\"Validation Loss\", marker='o')\n",
        "plt.xlabel(\"Evaluation Step\")\n",
        "plt.ylabel(\"Loss\")\n",
        "plt.title(\"Training and Validation Loss Over Time\")\n",
        "plt.legend()\n",
        "plt.grid()\n",
        "plt.show()"
      ],
      "metadata": {
        "colab": {
          "base_uri": "https://localhost:8080/",
          "height": 487
        },
        "id": "gVU0QqZjrmXz",
        "outputId": "99584ee3-fe74-4d5e-e524-8645ae9c8153"
      },
      "execution_count": 17,
      "outputs": [
        {
          "output_type": "display_data",
          "data": {
            "text/plain": [
              "<Figure size 1000x500 with 1 Axes>"
            ],
            "image/png": "[encoded data removed]"
          },
          "metadata": {}
        }
      ]
    },
    {
      "cell_type": "code",
      "source": [
        "#This code takes a starting phrase, feeds it to your trained language model,\n",
        "#and the model generates a continuation of that text\n",
        "\n",
        "input_tokens = tokenizer.encode(\"come my area bro\")\n",
        "input_tokens = torch.tensor(\n",
        "    input_tokens, dtype=torch.long).unsqueeze(0).to(device)\n",
        "\n",
        "model.eval()\n",
        "with torch.no_grad():\n",
        "    output = model.generate(input_tokens=input_tokens, max_new_tokens=100)\n",
        "\n",
        "print(tokenizer.decode(output[0].tolist()))"
      ],
      "metadata": {
        "id": "Nfq5APICtGaC"
      },
      "execution_count": null,
      "outputs": []
    }
  ]
}